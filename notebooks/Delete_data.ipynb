{
 "cells": [
  {
   "cell_type": "code",
   "execution_count": 67,
   "metadata": {},
   "outputs": [
    {
     "data": {
      "text/plain": [
       "'C:\\\\Users\\\\somd7w\\\\Desktop\\\\DL_Projects\\\\preproc_cntr\\\\output'"
      ]
     },
     "execution_count": 67,
     "metadata": {},
     "output_type": "execute_result"
    }
   ],
   "source": [
    "# Set Working Dir\n",
    "import os\n",
    "os.chdir('C:\\\\Users\\\\somd7w\\\\Desktop\\\\DL_Projects\\\\preproc_cntr\\\\output')\n",
    "os.getcwd()"
   ]
  },
  {
   "cell_type": "code",
   "execution_count": 68,
   "metadata": {},
   "outputs": [],
   "source": [
    "# Load Datafile\n",
    "data_file='data_32.h5'\n",
    "import tables\n",
    "hdf5_file = tables.open_file(data_file, mode='r+')"
   ]
  },
  {
   "cell_type": "code",
   "execution_count": 69,
   "metadata": {},
   "outputs": [
    {
     "name": "stdout",
     "output_type": "stream",
     "text": [
      "['ELAST-247', 'ELAST-318', 'ELAST-133', 'ELAST-003', 'ELAST-646', 'ELAST-459', 'ELAST-105', 'ELAST-640', 'ELAST-1018', 'ELAST-675']\n"
     ]
    }
   ],
   "source": [
    "# Load Subject Ids to delete\n",
    "ignore_list = 'ignore_list.csv'\n",
    "import pandas as pd\n",
    "delete_ids = pd.read_csv(ignore_list, index_col=False,header=None)\n",
    "delete_ids = delete_ids[0].to_list()\n",
    "print(delete_ids)"
   ]
  },
  {
   "cell_type": "code",
   "execution_count": 70,
   "metadata": {},
   "outputs": [
    {
     "name": "stdout",
     "output_type": "stream",
     "text": [
      "/ (RootGroup) ''\n",
      "/affine (EArray(732, 4, 4), shuffle, blosc(5)) ''\n",
      "/imdata (EArray(732, 1, 256, 256, 32), shuffle, blosc(5)) ''\n",
      "/imstats (EArray(732, 12), shuffle, blosc(5)) ''\n",
      "/subject_ids (Array(732,)) ''\n",
      "/truth (EArray(732, 1, 256, 256, 32), shuffle, blosc(5)) ''\n",
      "/volume (EArray(732, 1), shuffle, blosc(5)) ''\n"
     ]
    }
   ],
   "source": [
    "# Print nodes in data_file\n",
    "for node in hdf5_file:\n",
    "      print(node)"
   ]
  },
  {
   "cell_type": "code",
   "execution_count": 71,
   "metadata": {},
   "outputs": [
    {
     "name": "stdout",
     "output_type": "stream",
     "text": [
      "[292, 334, 239, 2, 501, 410, 100, 497, 71, 517]\n",
      "number of deletions:  10\n"
     ]
    }
   ],
   "source": [
    "import numpy as np\n",
    "sub_ids = np.asarray(hdf5_file.root.subject_ids).astype('U13')\n",
    "delete_inds = list()\n",
    "for d_id in delete_ids:\n",
    "    result = np.where(sub_ids == d_id)\n",
    "    d_ind = result[0][0]\n",
    "    delete_inds.append(d_ind)\n",
    "\n",
    "print(delete_inds)\n",
    "print(\"number of deletions: \", len(delete_inds))"
   ]
  },
  {
   "cell_type": "code",
   "execution_count": 72,
   "metadata": {},
   "outputs": [
    {
     "name": "stdout",
     "output_type": "stream",
     "text": [
      "Affine shape (732, 4, 4)\n",
      "imdata shape (732, 1, 256, 256, 32)\n",
      "imstats shape (732, 12)\n",
      "subject_ids shape (732,)\n",
      "truth shape (732, 1, 256, 256, 32)\n",
      "volume (732, 1)\n"
     ]
    }
   ],
   "source": [
    "affine = hdf5_file.root.affine\n",
    "imdata = hdf5_file.root.imdata\n",
    "imstats = hdf5_file.root.imstats\n",
    "subject_ids = hdf5_file.root.subject_ids\n",
    "truth = hdf5_file.root.truth\n",
    "volume = hdf5_file.root.volume\n",
    "print(\"Affine shape\", affine.shape)\n",
    "print(\"imdata shape\", imdata.shape)\n",
    "print(\"imstats shape\", imstats.shape)\n",
    "print(\"subject_ids shape\", subject_ids.shape)\n",
    "print(\"truth shape\", truth.shape)\n",
    "print(\"volume\", volume.shape)"
   ]
  },
  {
   "cell_type": "code",
   "execution_count": 73,
   "metadata": {},
   "outputs": [
    {
     "name": "stdout",
     "output_type": "stream",
     "text": [
      "Affine shape (722, 4, 4)\n",
      "imdata shape (722, 1, 256, 256, 32)\n",
      "imstats shape (722, 12)\n",
      "subject_ids shape (722,)\n",
      "truth shape (722, 1, 256, 256, 32)\n",
      "volume (722, 1)\n"
     ]
    }
   ],
   "source": [
    "# Delete\n",
    "affine = np.delete(affine,delete_inds,0)\n",
    "imdata = np.delete(imdata,delete_inds,0)\n",
    "imstats = np.delete(imstats,delete_inds,0)\n",
    "subject_ids = np.delete(subject_ids,delete_inds,0)\n",
    "truth = np.delete(truth,delete_inds,0)\n",
    "volume = np.delete(volume,delete_inds,0)\n",
    "\n",
    "print(\"Affine shape\", affine.shape)\n",
    "print(\"imdata shape\", imdata.shape)\n",
    "print(\"imstats shape\", imstats.shape)\n",
    "print(\"subject_ids shape\", subject_ids.shape)\n",
    "print(\"truth shape\", truth.shape)\n",
    "print(\"volume\", volume.shape)"
   ]
  },
  {
   "cell_type": "code",
   "execution_count": 74,
   "metadata": {},
   "outputs": [
    {
     "name": "stdout",
     "output_type": "stream",
     "text": [
      "/ (RootGroup) ''\n",
      "/affine (EArray(732, 4, 4), shuffle, blosc(5)) ''\n",
      "/imdata (EArray(732, 1, 256, 256, 32), shuffle, blosc(5)) ''\n",
      "/imstats (EArray(732, 12), shuffle, blosc(5)) ''\n",
      "/subject_ids (Array(732,)) ''\n",
      "/truth (EArray(732, 1, 256, 256, 32), shuffle, blosc(5)) ''\n",
      "/volume (EArray(732, 1), shuffle, blosc(5)) ''\n"
     ]
    }
   ],
   "source": [
    "# Check shape is correct after deletion\n",
    "for node in hdf5_file:\n",
    "      print(node)"
   ]
  },
  {
   "cell_type": "code",
   "execution_count": 75,
   "metadata": {},
   "outputs": [
    {
     "name": "stdout",
     "output_type": "stream",
     "text": [
      "Affine shape (722, 4, 4)\n",
      "imdata shape (722, 1, 256, 256, 32)\n",
      "imstats shape (722, 12)\n",
      "subject_ids shape (722,)\n",
      "truth shape (722, 1, 256, 256, 32)\n",
      "volume (722, 1)\n"
     ]
    }
   ],
   "source": [
    "# Create new hdf5 File after deletion\n",
    "hdf5_file.close()\n",
    "out_file.close()\n",
    "out_file = tables.open_file('data_32_final.h5', mode='w')\n",
    "filters = tables.Filters(complevel=5, complib='blosc')\n",
    "imdata = out_file.create_earray(out_file.root, 'imdata', filters=filters, obj=imdata)\n",
    "affine = out_file.create_earray(out_file.root, 'affine', filters=filters, obj=affine)\n",
    "imstats = out_file.create_earray(out_file.root, 'imstats', filters=filters, obj=imstats)\n",
    "subject_ids = out_file.create_array(out_file.root, 'subject_ids', obj=subject_ids)\n",
    "volume = out_file.create_earray(out_file.root, 'volume', tables.Float32Atom(), filters=filters, obj=volume)\n",
    "truth = out_file.create_earray(out_file.root, 'truth',filters=filters, obj=truth)\n",
    "\n",
    "print(\"Affine shape\", affine.shape)\n",
    "print(\"imdata shape\", imdata.shape)\n",
    "print(\"imstats shape\", imstats.shape)\n",
    "print(\"subject_ids shape\", subject_ids.shape)\n",
    "print(\"truth shape\", truth.shape)\n",
    "print(\"volume\", volume.shape)"
   ]
  },
  {
   "cell_type": "code",
   "execution_count": 76,
   "metadata": {},
   "outputs": [],
   "source": [
    "out_file.close()"
   ]
  },
  {
   "cell_type": "code",
   "execution_count": null,
   "metadata": {},
   "outputs": [],
   "source": []
  }
 ],
 "metadata": {
  "kernelspec": {
   "display_name": "Python 3",
   "language": "python",
   "name": "python3"
  },
  "language_info": {
   "codemirror_mode": {
    "name": "ipython",
    "version": 3
   },
   "file_extension": ".py",
   "mimetype": "text/x-python",
   "name": "python",
   "nbconvert_exporter": "python",
   "pygments_lexer": "ipython3",
   "version": "3.6.8"
  }
 },
 "nbformat": 4,
 "nbformat_minor": 2
}
