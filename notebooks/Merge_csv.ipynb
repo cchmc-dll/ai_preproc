{
 "cells": [
  {
   "cell_type": "code",
   "execution_count": 21,
   "metadata": {},
   "outputs": [
    {
     "data": {
      "text/plain": [
       "'C:\\\\Users\\\\somd7w\\\\Desktop\\\\DL_Projects\\\\preproc_cntr'"
      ]
     },
     "execution_count": 21,
     "metadata": {},
     "output_type": "execute_result"
    }
   ],
   "source": [
    "import os\n",
    "os.chdir('C:\\\\Users\\\\somd7w\\\\Desktop\\\\DL_Projects\\\\preproc_cntr')\n",
    "os.getcwd()"
   ]
  },
  {
   "cell_type": "code",
   "execution_count": 22,
   "metadata": {},
   "outputs": [],
   "source": [
    "import src.unet3d.utils.utils\n",
    "import numpy as np\n",
    "import nibabel as nib\n",
    "from nibabel.affines import apply_affine\n",
    "from nilearn.image import resample_img, crop_img,index_img, resample_to_img,resample_to_img, reorder_img, new_img_like\n",
    "from niwidgets import NiftiWidget"
   ]
  },
  {
   "cell_type": "code",
   "execution_count": 23,
   "metadata": {},
   "outputs": [],
   "source": [
    "input1='C:\\\\Users\\\\somd7w\\\\Desktop\\\\DL_Projects\\\\preproc_cntr\\\\output\\\\all_features_final.csv'\n",
    "input2='C:\\\\Users\\\\somd7w\\\\Desktop\\\\DL_Projects\\\\preproc_cntr\\\\output\\\\imstats.csv'"
   ]
  },
  {
   "cell_type": "code",
   "execution_count": 24,
   "metadata": {},
   "outputs": [
    {
     "name": "stdout",
     "output_type": "stream",
     "text": [
      "['GENDER', 'Gender_catagorical', 'RACE', 'ETHNICITY', 'Age (DOS)', 'WEIGHT', 'HEIGHT', 'BMI', 'BLOOD_PRESSURE', 'BMI_PERCENTILE', 'Systolic', 'Diastolic', 'DIABETES_MELLITUS_TYPEI_Y', 'DIABETES_MELLITUS_TYPEII_Y', 'NASH_NAFATTYLIVER_Y', 'FONTAN_OPERATION_Y', 'BILIARY_ATRESIA_Y', 'PRIM_SCLEROSING_CHOLANGITIS_Y', 'AUTOIMMUNE_HEPATITIS_Y', 'CYSTIC_FIBROSIS_Y', 'ALAGILLE_SYNDROME_Y', 'MANUAL_PLATELET_COUNT', 'ALK_PHOS', 'BILI_DIRECT', 'BILI_INDIRECT', 'BILIRUBIN_TOTAL', 'GGT', 'AST', 'ALT', 'DESCRIPTION', 'REPORTS', 'liver_volume', 'elastography_average', 'elastography_minimum', 'elastography_maximum', 'fat_fraction', 'fatty_infiltration', 'fatty_infiltration_catagorical', 'iron_content', 'mean_t2star', 'manufacturer', 'field_strength', 'scanner_model']\n",
      "Number of rows in input1 =  1203\n"
     ]
    }
   ],
   "source": [
    "import pandas as pd\n",
    "key='Key'\n",
    "df_1 = pd.read_csv(input1, index_col=False)\n",
    "df_1.set_index(key, inplace=True)\n",
    "print(list(df_1))\n",
    "print(\"Number of rows in input1 = \",len(df_1))"
   ]
  },
  {
   "cell_type": "code",
   "execution_count": 25,
   "metadata": {},
   "outputs": [
    {
     "name": "stdout",
     "output_type": "stream",
     "text": [
      "['ID', 'inputX', 'inputY', 'inputZ', 'inputXsize', 'inputYsize', 'inputZsize', 'outputX', 'outputY', 'outputZ', 'outputXsize', 'outputYsize', 'outputZsize', 'volume']\n",
      "Number of rows in input2 =  732\n"
     ]
    }
   ],
   "source": [
    "df_2 = pd.read_csv(input2, index_col=False)\n",
    "df_2.set_index(key, inplace=True)\n",
    "print(list(df_2))\n",
    "print(\"Number of rows in input2 = \",len(df_2))"
   ]
  },
  {
   "cell_type": "code",
   "execution_count": 26,
   "metadata": {},
   "outputs": [
    {
     "name": "stdout",
     "output_type": "stream",
     "text": [
      "Number of rows in output=  732\n"
     ]
    }
   ],
   "source": [
    "df_out = pd.merge(df_2, df_1, how='left', on=[key])\n",
    "output = 'C:\\\\Users\\\\somd7w\\\\Desktop\\\\DL_Projects\\\\preproc_cntr\\\\output\\\\T2_data_merged.csv'\n",
    "print(\"Number of rows in output= \",len(df_out))\n",
    "df_out.to_csv(output,encoding='utf-8')"
   ]
  },
  {
   "cell_type": "code",
   "execution_count": null,
   "metadata": {},
   "outputs": [],
   "source": []
  }
 ],
 "metadata": {
  "kernelspec": {
   "display_name": "Python 3",
   "language": "python",
   "name": "python3"
  },
  "language_info": {
   "codemirror_mode": {
    "name": "ipython",
    "version": 3
   },
   "file_extension": ".py",
   "mimetype": "text/x-python",
   "name": "python",
   "nbconvert_exporter": "python",
   "pygments_lexer": "ipython3",
   "version": "3.6.8"
  }
 },
 "nbformat": 4,
 "nbformat_minor": 2
}
