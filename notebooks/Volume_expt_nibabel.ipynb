{
 "cells": [
  {
   "cell_type": "code",
   "execution_count": 331,
   "metadata": {},
   "outputs": [
    {
     "data": {
      "text/plain": [
       "'C:\\\\Users\\\\somd7w\\\\Desktop\\\\DL_Projects\\\\preproc_cntr'"
      ]
     },
     "execution_count": 331,
     "metadata": {},
     "output_type": "execute_result"
    }
   ],
   "source": [
    "import os\n",
    "os.chdir('C:\\\\Users\\\\somd7w\\\\Desktop\\\\DL_Projects\\\\preproc_cntr')\n",
    "os.getcwd()"
   ]
  },
  {
   "cell_type": "code",
   "execution_count": 332,
   "metadata": {},
   "outputs": [],
   "source": [
    "import src.unet3d.utils.utils\n",
    "import numpy as np\n",
    "import nibabel as nib\n",
    "from nibabel.affines import apply_affine\n",
    "from nilearn.image import resample_img, crop_img,index_img, resample_to_img,resample_to_img, reorder_img, new_img_like\n",
    "from niwidgets import NiftiWidget"
   ]
  },
  {
   "cell_type": "code",
   "execution_count": 333,
   "metadata": {},
   "outputs": [],
   "source": [
    "# Function to calculate voxel co-ordinate in mm space\n",
    "def get_coord(img,ijk):\n",
    "    M = img.affine[:3,:3]\n",
    "    T = img.affine[:3,3]\n",
    "    return M.dot(ijk) + T\n",
    "\n",
    "def get_center_voxel(img):\n",
    "    img_data = img.get_data()\n",
    "    return (np.array(img_data.shape) - 1) / 2."
   ]
  },
  {
   "cell_type": "code",
   "execution_count": 334,
   "metadata": {},
   "outputs": [],
   "source": [
    "patname = \"Elast-019\""
   ]
  },
  {
   "cell_type": "code",
   "execution_count": 335,
   "metadata": {},
   "outputs": [],
   "source": [
    "path_t2 = os.path.abspath(\"preprocessed/\"+patname+\"/T2.nii\")"
   ]
  },
  {
   "cell_type": "code",
   "execution_count": 336,
   "metadata": {},
   "outputs": [],
   "source": [
    "path_mask = os.path.abspath(\"preprocessed/\"+patname+\"/Label.nii\")"
   ]
  },
  {
   "cell_type": "code",
   "execution_count": 337,
   "metadata": {},
   "outputs": [],
   "source": [
    "T2 = nib.load(path_t2)\n",
    "MASK = nib.load(path_mask)\n",
    "T2_org = nib.load(path_t2)\n",
    "#Reorder to RAS\n",
    "T2 = reorder_img(T2, resample='continuous')\n",
    "MASK = reorder_img(MASK, resample='nearest')\n",
    "image = T2"
   ]
  },
  {
   "cell_type": "code",
   "execution_count": 338,
   "metadata": {},
   "outputs": [
    {
     "name": "stdout",
     "output_type": "stream",
     "text": [
      "[[   0.89285713    0.            0.         -172.40082843]\n",
      " [   0.            0.89285713    0.         -182.16121118]\n",
      " [   0.            0.            6.00000334 -217.11193848]\n",
      " [   0.            0.            0.            1.        ]]\n",
      "('R', 'A', 'S')\n"
     ]
    }
   ],
   "source": [
    "print(T2.affine)\n",
    "print(nib.aff2axcodes(T2.affine))"
   ]
  },
  {
   "cell_type": "code",
   "execution_count": 339,
   "metadata": {},
   "outputs": [],
   "source": [
    "new_shape = (256,256,64)\n",
    "zoom_level = np.divide(new_shape, image.shape)\n",
    "current_spacing = [1,1,1]*T2.affine[:3,:3]\n",
    "new_spacing = np.divide(current_spacing, zoom_level)"
   ]
  },
  {
   "cell_type": "code",
   "execution_count": 340,
   "metadata": {},
   "outputs": [],
   "source": [
    "new_affine =  np.eye(4)\n",
    "new_affine[:3, :3] =    np.eye(3)*new_spacing\n",
    "new_affine[:3,3] = T2.affine[:3,3]"
   ]
  },
  {
   "cell_type": "code",
   "execution_count": 341,
   "metadata": {},
   "outputs": [],
   "source": [
    "T2_new = resample_img(image,target_shape=new_shape,target_affine=new_affine,interpolation=\"continuous\")\n",
    "MASK_new = resample_img(MASK,target_shape=new_shape,target_affine=new_affine,interpolation=\"nearest\")"
   ]
  },
  {
   "cell_type": "code",
   "execution_count": 342,
   "metadata": {},
   "outputs": [],
   "source": [
    "# test_widget = NiftiWidget(T2_org)\n",
    "# test_widget.nifti_plotter()"
   ]
  },
  {
   "cell_type": "code",
   "execution_count": 343,
   "metadata": {},
   "outputs": [],
   "source": [
    "# print(T2_org.affine)\n",
    "# print(T2_org.shape)"
   ]
  },
  {
   "cell_type": "code",
   "execution_count": 344,
   "metadata": {},
   "outputs": [],
   "source": [
    "# test_widget = NiftiWidget(T2_new)\n",
    "# test_widget.nifti_plotter()"
   ]
  },
  {
   "cell_type": "code",
   "execution_count": 345,
   "metadata": {},
   "outputs": [
    {
     "name": "stdout",
     "output_type": "stream",
     "text": [
      "[[   1.20675222    0.            0.         -172.40082843]\n",
      " [   0.            1.21721539    0.         -182.16121118]\n",
      " [   0.            0.            4.87500271 -217.11193848]\n",
      " [   0.            0.            0.            1.        ]]\n",
      "(256, 256, 64)\n"
     ]
    }
   ],
   "source": [
    "print(T2_new.affine)\n",
    "print(T2_new.shape)"
   ]
  },
  {
   "cell_type": "code",
   "execution_count": 346,
   "metadata": {},
   "outputs": [],
   "source": [
    "# test_widget = NiftiWidget(MASK_new)\n",
    "# test_widget.nifti_plotter()"
   ]
  },
  {
   "cell_type": "code",
   "execution_count": 347,
   "metadata": {},
   "outputs": [
    {
     "name": "stdout",
     "output_type": "stream",
     "text": [
      "old_voxel_vol = 4.78\n",
      "new_voxel_vol = 7.16\n",
      "T2_vol = 30034.49\n",
      "T2_new_vol = 30034.49\n",
      "T2_liver_vol = 2540.83\n",
      "T2_new_liver_vol = 2543.75\n",
      "liver_vol_err percent = -0.11\n",
      "new image shape (256, 256, 64)\n"
     ]
    }
   ],
   "source": [
    "from src.unet3d.utils.utils import get_imstats\n",
    "from src.unet3d.normalize import get_volume\n",
    "#print(\"T2_stats = \",get_imstats(T2))\n",
    "#print(\"T2_new_stats = \",get_imstats(T2_new))\n",
    "\n",
    "print(\"old_voxel_vol = %.2f\" %  np.prod(np.asarray(get_imstats(T2)[3:])))\n",
    "\n",
    "print(\"new_voxel_vol = %.2f\" %  np.prod(np.asarray(get_imstats(T2_new)[3:])))\n",
    "\n",
    "print(\"T2_vol = %.2f\" % get_volume(get_imstats(T2),units=\"cm\"))\n",
    "print(\"T2_new_vol = %.2f\" % get_volume(get_imstats(T2_new),units=\"cm\"))\n",
    "\n",
    "old_vol = get_volume(get_imstats(T2),mask=MASK.get_data(),label=1,units=\"cm\")\n",
    "new_vol = get_volume(get_imstats(T2_new),mask=MASK_new.get_data(),label=1,units=\"cm\")\n",
    "\n",
    "print(\"T2_liver_vol = %.2f\" % old_vol)\n",
    "print(\"T2_new_liver_vol = %.2f\" % new_vol)\n",
    "\n",
    "rel_err = (old_vol-new_vol)*100/new_vol\n",
    "\n",
    "print(\"liver_vol_err percent = %.2f\" % rel_err)\n",
    "\n",
    "print(\"new image shape\", T2_new.shape)"
   ]
  },
  {
   "cell_type": "code",
   "execution_count": 357,
   "metadata": {},
   "outputs": [],
   "source": [
    "T2_new.header['xyzt_units']=2\n",
    "T2_"
   ]
  },
  {
   "cell_type": "code",
   "execution_count": 358,
   "metadata": {},
   "outputs": [],
   "source": [
    "T2_new.to_filename('jupyter_out/'+ patname + '_new.nii.gz')"
   ]
  }
 ],
 "metadata": {
  "kernelspec": {
   "display_name": "Python 3",
   "language": "python",
   "name": "python3"
  },
  "language_info": {
   "codemirror_mode": {
    "name": "ipython",
    "version": 3
   },
   "file_extension": ".py",
   "mimetype": "text/x-python",
   "name": "python",
   "nbconvert_exporter": "python",
   "pygments_lexer": "ipython3",
   "version": "3.6.8"
  }
 },
 "nbformat": 4,
 "nbformat_minor": 2
}
