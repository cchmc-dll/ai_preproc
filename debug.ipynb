{
 "cells": [
  {
   "cell_type": "code",
   "execution_count": 1,
   "metadata": {},
   "outputs": [],
   "source": [
    "from IPython import get_ipython"
   ]
  },
  {
   "cell_type": "code",
   "execution_count": 2,
   "metadata": {},
   "outputs": [
    {
     "name": "stderr",
     "output_type": "stream",
     "text": [
      "No traceback available to show.\n"
     ]
    }
   ],
   "source": [
    "get_ipython().run_line_magic('tb', '')"
   ]
  },
  {
   "cell_type": "code",
   "execution_count": 3,
   "metadata": {},
   "outputs": [
    {
     "name": "stdout",
     "output_type": "stream",
     "text": [
      "/opt/conda/lib/python3.7/site-packages/ipykernel_launcher.py\n",
      "['/opt/conda/lib/python3.7/site-packages/ipykernel_launcher.py', '@preproc.args']\n"
     ]
    }
   ],
   "source": [
    "import sys\n",
    "import argparse\n",
    "from pathlib import Path\n",
    "#Configuration file\n",
    "config_file = 'preproc.args'\n",
    "config_arg = '@'+config_file\n",
    "print(sys.argv[0])\n",
    "if config_arg not in sys.argv:\n",
    "    primary = sys.argv[0]\n",
    "    sys.argv = [primary,config_arg] \n",
    "print(sys.argv)"
   ]
  },
  {
   "cell_type": "code",
   "execution_count": 3,
   "metadata": {},
   "outputs": [
    {
     "name": "stderr",
     "output_type": "stream",
     "text": [
      "/opt/conda/lib/python3.7/site-packages/sklearn/externals/joblib/__init__.py:15: DeprecationWarning: sklearn.externals.joblib is deprecated in 0.21 and will be removed in 0.23. Please import this functionality directly from joblib, which can be installed with: pip install joblib. If this warning is raised when loading pickled models, you may need to re-serialize those models with scikit-learn 0.21+.\n",
      "  warnings.warn(msg, category=DeprecationWarning)\n"
     ]
    },
    {
     "name": "stdout",
     "output_type": "stream",
     "text": [
      "@preproc.args\n",
      "argv type:  <class 'list'>\n",
      "argv:  ['/opt/conda/lib/python3.7/site-packages/ipykernel_launcher.py', '-f', '/home/jovyan/.local/share/jupyter/runtime/kernel-e0f006a9-566c-4e44-9887-8fbdf4ce46d5.json', '@preproc.args']\n"
     ]
    },
    {
     "name": "stderr",
     "output_type": "stream",
     "text": [
      "usage: ipykernel_launcher.py [-h] --problem_type PROBLEM_TYPE --output_file\n",
      "                             OUTPUT_FILE --image_masks IMAGE_MASKS -o,\n",
      "                             OUTPUT_DIR --all_modalities ALL_MODALITIES\n",
      "                             --image_format IMAGE_FORMAT\n",
      "                             [--input_images INPUT_IMAGES] [--CPU CPU]\n",
      "                             [--patch_shape PATCH_SHAPE]\n",
      "                             [--input_type INPUT_TYPE]\n",
      "                             [--image_shape IMAGE_SHAPE]\n",
      "                             [--overwrite OVERWRITE]\n",
      "                             [--output_images OUTPUT_IMAGES]\n",
      "                             [--output_imstats OUTPUT_IMSTATS]\n",
      "                             [--training_modalities TRAINING_MODALITIES]\n",
      "                             [--normalize NORMALIZE]\n",
      "ipykernel_launcher.py: error: unrecognized arguments: -f /home/jovyan/.local/share/jupyter/runtime/kernel-e0f006a9-566c-4e44-9887-8fbdf4ce46d5.json\n"
     ]
    },
    {
     "ename": "SystemExit",
     "evalue": "2",
     "output_type": "error",
     "traceback": [
      "An exception has occurred, use %tb to see the full traceback.\n",
      "\u001b[0;31mSystemExit\u001b[0m\u001b[0;31m:\u001b[0m 2\n"
     ]
    },
    {
     "name": "stderr",
     "output_type": "stream",
     "text": [
      "/opt/conda/lib/python3.7/site-packages/IPython/core/interactiveshell.py:3334: UserWarning: To exit: use 'exit', 'quit', or Ctrl-D.\n",
      "  warn(\"To exit: use 'exit', 'quit', or Ctrl-D.\", stacklevel=1)\n"
     ]
    }
   ],
   "source": [
    "#from  src.run_preprocess import *\n",
    "from src.run_debug import *\n",
    "\n",
    "file = '@preproc.args'\n",
    "\n",
    "print(file)\n",
    "config = main(file)\n",
    "pprint.pprint(config)"
   ]
  },
  {
   "cell_type": "code",
   "execution_count": 10,
   "metadata": {},
   "outputs": [
    {
     "name": "stdout",
     "output_type": "stream",
     "text": [
      " Image data shape:  (0, 1, 256, 256, None)\n",
      " Image modalities:  ['MR1']\n",
      "  No. of Subjects:  9\n"
     ]
    }
   ],
   "source": [
    "# Open the hdf5 file\n",
    "if config['overwrite'] or not os.path.exists(config[\"output_file\"]):\n",
    "    hdf5_file = tables.open_file(config[\"output_file\"], mode='w')\n",
    "    overwrite = 1\n",
    "else:\n",
    "    hdf5_file = tables.open_file(config[\"output_file\"], mode='r')\n",
    "\n",
    "config[\"hdf5_file\"] = hdf5_file\n",
    "\n",
    "niftis = nifti_loader(\n",
    "        config[\"hdf5_file\"],\n",
    "        config[\"input_images\"],\n",
    "        config[\"problem_type\"],\n",
    "        config[\"image_shape\"],\n",
    "        config[\"training_modalities\"],\n",
    "        config[\"image_masks\"]\n",
    "    )\n",
    "\n",
    "print(' Image data shape: ', niftis.image_data_shape)\n",
    "print(' Image modalities: ', niftis.image_modalities)\n",
    "print('  No. of Subjects: ', len(niftis.ids))\n"
   ]
  },
  {
   "cell_type": "code",
   "execution_count": 12,
   "metadata": {},
   "outputs": [],
   "source": [
    "niftis.hdf5.close()"
   ]
  },
  {
   "cell_type": "code",
   "execution_count": 13,
   "metadata": {},
   "outputs": [],
   "source": [
    "niftis.image_data_shape = (0,1,256,256,32)"
   ]
  },
  {
   "cell_type": "code",
   "execution_count": 4,
   "metadata": {},
   "outputs": [
    {
     "data": {
      "text/plain": [
       "Filters(complevel=5, complib='zlib', shuffle=True, bitshuffle=False, fletcher32=False, least_significant_digit=None)"
      ]
     },
     "execution_count": 4,
     "metadata": {},
     "output_type": "execute_result"
    }
   ],
   "source": [
    "tables.Filters(5)"
   ]
  },
  {
   "cell_type": "code",
   "execution_count": 15,
   "metadata": {},
   "outputs": [
    {
     "ename": "AttributeError",
     "evalue": "'File' object has no attribute 'root'",
     "output_type": "error",
     "traceback": [
      "\u001b[0;31m---------------------------------------------------------------------------\u001b[0m",
      "\u001b[0;31mAttributeError\u001b[0m                            Traceback (most recent call last)",
      "\u001b[0;32m<ipython-input-15-ca07447b2117>\u001b[0m in \u001b[0;36m<module>\u001b[0;34m\u001b[0m\n\u001b[1;32m      3\u001b[0m \u001b[0;31m#image_storage1 = niftis.hdf5.create_earray(niftis.hdf5.root, 'imdata', tables.Float32Atom(),\u001b[0m\u001b[0;34m\u001b[0m\u001b[0;34m\u001b[0m\u001b[0;34m\u001b[0m\u001b[0m\n\u001b[1;32m      4\u001b[0m \u001b[0;31m#                                          shape=(0,1,256,256,32), filters=filters, expectedrows=n_samples)\u001b[0m\u001b[0;34m\u001b[0m\u001b[0;34m\u001b[0m\u001b[0;34m\u001b[0m\u001b[0m\n\u001b[0;32m----> 5\u001b[0;31m \u001b[0mimage_storage2\u001b[0m \u001b[0;34m=\u001b[0m \u001b[0mniftis\u001b[0m\u001b[0;34m.\u001b[0m\u001b[0mhdf5\u001b[0m\u001b[0;34m.\u001b[0m\u001b[0mcreate_vlarray\u001b[0m\u001b[0;34m(\u001b[0m\u001b[0mniftis\u001b[0m\u001b[0;34m.\u001b[0m\u001b[0mhdf5\u001b[0m\u001b[0;34m.\u001b[0m\u001b[0mroot\u001b[0m\u001b[0;34m,\u001b[0m \u001b[0;34m'imdata2'\u001b[0m\u001b[0;34m,\u001b[0m \u001b[0mtables\u001b[0m\u001b[0;34m.\u001b[0m\u001b[0mFloat32Atom\u001b[0m\u001b[0;34m(\u001b[0m\u001b[0mshape\u001b[0m\u001b[0;34m=\u001b[0m\u001b[0;34m(\u001b[0m\u001b[0;34m)\u001b[0m\u001b[0;34m)\u001b[0m\u001b[0;34m,\u001b[0m \u001b[0mfilters\u001b[0m\u001b[0;34m=\u001b[0m\u001b[0mfilters\u001b[0m\u001b[0;34m,\u001b[0m \u001b[0mexpectedrows\u001b[0m\u001b[0;34m=\u001b[0m\u001b[0mn_samples\u001b[0m\u001b[0;34m)\u001b[0m\u001b[0;34m\u001b[0m\u001b[0;34m\u001b[0m\u001b[0m\n\u001b[0m",
      "\u001b[0;31mAttributeError\u001b[0m: 'File' object has no attribute 'root'"
     ]
    }
   ],
   "source": [
    "n_samples = len(niftis.ids)\n",
    "\n",
    "#image_storage1 = niftis.hdf5.create_earray(niftis.hdf5.root, 'imdata', tables.Float32Atom(), \n",
    "#                                          shape=(0,1,256,256,32), filters=filters, expectedrows=n_samples)\n",
    "image_storage2 = niftis.hdf5.create_vlarray(niftis.hdf5.root, 'imdata2', tables.Float32Atom(shape=()), filters=filters, expectedrows=n_samples)"
   ]
  },
  {
   "cell_type": "code",
   "execution_count": null,
   "metadata": {},
   "outputs": [],
   "source": [
    "from src.unet3d.normalize import reslice_image_set\n",
    "for (i, imagePath) in enumerate(niftis.data_files):\n",
    "    print(i)\n",
    "    images, imstats = reslice_image_set(\n",
    "                in_files=imagePath, image_shape=(256,256,None), label_indices=len(imagePath)-1, crop=True, stats=True)\n",
    "    subject_data = [image.get_fdata() for image in images]\n",
    "    break\n",
    "    image_storage2.append(np.asarray(subject_data[:niftis.n_channels])[np.newaxis])\n",
    "    print(imstats)\n",
    " "
   ]
  },
  {
   "cell_type": "code",
   "execution_count": null,
   "metadata": {},
   "outputs": [],
   "source": [
    "subject_data[0].shape"
   ]
  },
  {
   "cell_type": "code",
   "execution_count": null,
   "metadata": {},
   "outputs": [],
   "source": [
    "a=np.asarray([5,6])\n",
    "a.shape"
   ]
  },
  {
   "cell_type": "code",
   "execution_count": 35,
   "metadata": {},
   "outputs": [
    {
     "name": "stdout",
     "output_type": "stream",
     "text": [
      "(2, 2, 5)\n",
      "(2, 2, 4)\n"
     ]
    }
   ],
   "source": [
    "a = np.asarray(list(range(1,21))).reshape(2,2,5)\n",
    "print(a.shape)\n",
    "b = np.asarray(list(range(1,17))).reshape(2,2,4)\n",
    "print(b.shape)"
   ]
  },
  {
   "cell_type": "code",
   "execution_count": 37,
   "metadata": {},
   "outputs": [
    {
     "ename": "SyntaxError",
     "evalue": "invalid syntax (<ipython-input-37-f0daa10c3356>, line 26)",
     "output_type": "error",
     "traceback": [
      "\u001b[0;36m  File \u001b[0;32m\"<ipython-input-37-f0daa10c3356>\"\u001b[0;36m, line \u001b[0;32m26\u001b[0m\n\u001b[0;31m    vlarray.append(a.reshape(:,1,2,2))\u001b[0m\n\u001b[0m                             ^\u001b[0m\n\u001b[0;31mSyntaxError\u001b[0m\u001b[0;31m:\u001b[0m invalid syntax\n"
     ]
    }
   ],
   "source": [
    "fileh.close()\n",
    "filters = tables.Filters(complevel=5, complib='blosc')\n",
    "n_samples=9\n",
    "exp_slices = 5 # expected slices\n",
    "fileh = tables.open_file('earrays.h5', mode='w')\n",
    "vlarray = fileh.create_vlarray(fileh.root, 'vlarray1', tables.Int32Atom(shape=(1,2,2)),\"ragged array of ints\",\n",
    "                              filters=filters)  #(1,2,2)\n",
    "\n",
    "\n",
    "vlind = fileh.create_earray(fileh.root, 'vlind', tables.Int32Atom(), shape=(0,2), filters=filters, expectedrows=n_samples)\n",
    "\n",
    "\n",
    "earray2 = fileh.create_earray(fileh.root, 'imdata_slices', tables.Int32Atom(), \n",
    "                                          shape=(0,1,2,2), filters=filters, expectedrows=n_samples*exp_slices)\n",
    "\n",
    "\n",
    "#earray = fileh.create_earray(fileh.root, 'imdata', tables.Int32Atom(), \n",
    "#                                          shape=(0,1,2,2,5), filters=filters, expectedrows=n_samples)\n",
    "start= 0\n",
    "stop = 0\n",
    "\n",
    "vlind.append(np.array([0,5])[np.newaxis])\n",
    "vlind.append(np.array([5,10])[np.newaxis])\n",
    "\n",
    "# Append some (variable length) rows:\n",
    "vlarray.append(a.reshape(5,1,2,2))\n",
    "vlarray.append(b.reshape(5,1,2,2))\n",
    "\n",
    "earray.append(a[np.newaxis][np.newaxis])\n",
    "earray.append(b[np.newaxis][np.newaxis])\n",
    "\n",
    "earray2.append(a.reshape(5,1,2,2))\n",
    "earray2.append(b.reshape(5,1,2,2))\n",
    "\n",
    "# Now, read it through an iterator:\n",
    "# print('-->', vlarray.title)\n",
    "# for x in vlarray:\n",
    "#     print('%s[%d]--> %s' % (vlarray.name, vlarray.nrow, x))"
   ]
  },
  {
   "cell_type": "code",
   "execution_count": 86,
   "metadata": {},
   "outputs": [
    {
     "data": {
      "text/plain": [
       "True"
      ]
     },
     "execution_count": 86,
     "metadata": {},
     "output_type": "execute_result"
    }
   ],
   "source": [
    "\"/vlarray1\" in fileh"
   ]
  },
  {
   "cell_type": "code",
   "execution_count": 24,
   "metadata": {},
   "outputs": [
    {
     "data": {
      "text/plain": [
       "array([[[[ 1,  2,  3,  4,  5],\n",
       "         [ 6,  7,  8,  9, 10]],\n",
       "\n",
       "        [[11, 12, 13, 14, 15],\n",
       "         [16, 17, 18, 19, 20]]]], dtype=int32)"
      ]
     },
     "execution_count": 24,
     "metadata": {},
     "output_type": "execute_result"
    }
   ],
   "source": [
    "earray[0]"
   ]
  },
  {
   "cell_type": "code",
   "execution_count": 11,
   "metadata": {},
   "outputs": [
    {
     "data": {
      "text/plain": [
       "(2, 1, 2, 2, 5)"
      ]
     },
     "execution_count": 11,
     "metadata": {},
     "output_type": "execute_result"
    }
   ],
   "source": [
    "earray.shape"
   ]
  },
  {
   "cell_type": "code",
   "execution_count": 10,
   "metadata": {},
   "outputs": [
    {
     "data": {
      "text/plain": [
       "(10, 1, 2, 2)"
      ]
     },
     "execution_count": 10,
     "metadata": {},
     "output_type": "execute_result"
    }
   ],
   "source": [
    "earray2.shape"
   ]
  },
  {
   "cell_type": "code",
   "execution_count": 13,
   "metadata": {},
   "outputs": [
    {
     "data": {
      "text/plain": [
       "(1, 2, 2, 5)"
      ]
     },
     "execution_count": 13,
     "metadata": {},
     "output_type": "execute_result"
    }
   ],
   "source": [
    "y = np.stack(earray2[vlind[0,0]:vlind[0,1]],axis=0)\n",
    "y = y.reshape(1,2,2,5)\n",
    "y.shape"
   ]
  },
  {
   "cell_type": "code",
   "execution_count": 14,
   "metadata": {},
   "outputs": [
    {
     "data": {
      "text/plain": [
       "(1, 2, 2, 5)"
      ]
     },
     "execution_count": 14,
     "metadata": {},
     "output_type": "execute_result"
    }
   ],
   "source": [
    "earray[0].shape"
   ]
  },
  {
   "cell_type": "code",
   "execution_count": 22,
   "metadata": {},
   "outputs": [
    {
     "data": {
      "text/plain": [
       "True"
      ]
     },
     "execution_count": 22,
     "metadata": {},
     "output_type": "execute_result"
    }
   ],
   "source": [
    "earray[0].all() == y.all() == z.all()"
   ]
  },
  {
   "cell_type": "code",
   "execution_count": 21,
   "metadata": {},
   "outputs": [],
   "source": [
    "z = vlarray[0].reshape(1,2,2,5)"
   ]
  },
  {
   "cell_type": "code",
   "execution_count": 26,
   "metadata": {},
   "outputs": [
    {
     "name": "stdout",
     "output_type": "stream",
     "text": [
      "2\n",
      "(1, 2, 2)\n",
      "(1, 2, 2)\n"
     ]
    }
   ],
   "source": [
    "image_data_shape = (0,1,2,2,None)\n",
    "truth_data_shape = (0,1,2,2,None)\n",
    "input_shape = (2,2,None)\n",
    "if None in image_data_shape:\n",
    "    Noneindex = input_shape.index(None)\n",
    "    imarray_shape = tuple([i for i in image_data_shape if i])\n",
    "    imtruth_shape = tuple([i for i in truth_data_shape if i])\n",
    "    print(Noneindex)\n",
    "    print(imarray_shape)\n",
    "    print(imtruth_shape)"
   ]
  },
  {
   "cell_type": "code",
   "execution_count": 34,
   "metadata": {},
   "outputs": [
    {
     "name": "stdout",
     "output_type": "stream",
     "text": [
      "1\n"
     ]
    }
   ],
   "source": [
    "v = 10\n",
    "a = 7\n",
    "if v:\n",
    "    a = 1\n",
    "else:\n",
    "    a = 2\n",
    "    \n",
    "print(a)    \n",
    "    "
   ]
  },
  {
   "cell_type": "code",
   "execution_count": 38,
   "metadata": {},
   "outputs": [
    {
     "ename": "TypeError",
     "evalue": "object of type 'NoneType' has no len()",
     "output_type": "error",
     "traceback": [
      "\u001b[0;31m---------------------------------------------------------------------------\u001b[0m",
      "\u001b[0;31mTypeError\u001b[0m                                 Traceback (most recent call last)",
      "\u001b[0;32m<ipython-input-38-96b07938784c>\u001b[0m in \u001b[0;36m<module>\u001b[0;34m\u001b[0m\n\u001b[0;32m----> 1\u001b[0;31m \u001b[0mlen\u001b[0m\u001b[0;34m(\u001b[0m\u001b[0;32mNone\u001b[0m\u001b[0;34m)\u001b[0m\u001b[0;34m\u001b[0m\u001b[0;34m\u001b[0m\u001b[0m\n\u001b[0m",
      "\u001b[0;31mTypeError\u001b[0m: object of type 'NoneType' has no len()"
     ]
    }
   ],
   "source": [
    "len(None)"
   ]
  },
  {
   "cell_type": "code",
   "execution_count": null,
   "metadata": {},
   "outputs": [],
   "source": []
  }
 ],
 "metadata": {
  "file_extension": ".py",
  "kernelspec": {
   "display_name": "Python 3",
   "language": "python",
   "name": "python3"
  },
  "language_info": {
   "codemirror_mode": {
    "name": "ipython",
    "version": 3
   },
   "file_extension": ".py",
   "mimetype": "text/x-python",
   "name": "python",
   "nbconvert_exporter": "python",
   "pygments_lexer": "ipython3",
   "version": "3.7.3"
  },
  "mimetype": "text/x-python",
  "name": "python",
  "npconvert_exporter": "python",
  "pygments_lexer": "ipython3",
  "version": 3
 },
 "nbformat": 4,
 "nbformat_minor": 2
}
