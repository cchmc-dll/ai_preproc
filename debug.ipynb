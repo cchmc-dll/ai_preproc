{
 "cells": [
  {
   "cell_type": "code",
   "execution_count": null,
   "metadata": {},
   "outputs": [],
   "source": [
    "from IPython import get_ipython"
   ]
  },
  {
   "cell_type": "code",
   "execution_count": null,
   "metadata": {},
   "outputs": [],
   "source": [
    "get_ipython().run_line_magic('tb', '')"
   ]
  },
  {
   "cell_type": "code",
   "execution_count": null,
   "metadata": {},
   "outputs": [],
   "source": [
    "import sys\n",
    "import argparse\n",
    "from pathlib import Path\n",
    "#Configuration file\n",
    "config_file = 'preproc.args'\n",
    "config_arg = '@'+config_file\n",
    "print(sys.argv[0])\n",
    "if config_arg not in sys.argv:\n",
    "    primary = sys.argv[0]\n",
    "    sys.argv = [primary,config_arg] \n",
    "print(sys.argv)"
   ]
  },
  {
   "cell_type": "code",
   "execution_count": null,
   "metadata": {},
   "outputs": [],
   "source": [
    "#from  src.run_preprocess import *\n",
    "from src.run_debug import *\n",
    "\n",
    "file = '@preproc.args'\n",
    "\n",
    "print(file)\n",
    "config = main(file)\n",
    "pprint.pprint(config)"
   ]
  },
  {
   "cell_type": "code",
   "execution_count": null,
   "metadata": {},
   "outputs": [],
   "source": [
    "# Open the hdf5 file\n",
    "if config['overwrite'] or not os.path.exists(config[\"output_file\"]):\n",
    "    hdf5_file = tables.open_file(config[\"output_file\"], mode='w')\n",
    "    overwrite = 1\n",
    "else:\n",
    "    hdf5_file = tables.open_file(config[\"output_file\"], mode='r')\n",
    "\n",
    "config[\"hdf5_file\"] = hdf5_file\n",
    "\n",
    "niftis = nifti_loader(\n",
    "        config[\"hdf5_file\"],\n",
    "        config[\"input_images\"],\n",
    "        config[\"problem_type\"],\n",
    "        config[\"image_shape\"],\n",
    "        config[\"training_modalities\"],\n",
    "        config[\"image_masks\"]\n",
    "    )\n",
    "\n",
    "print(' Image data shape: ', niftis.image_data_shape)\n",
    "print(' Image modalities: ', niftis.image_modalities)\n",
    "print('  No. of Subjects: ', len(niftis.ids))\n"
   ]
  },
  {
   "cell_type": "code",
   "execution_count": null,
   "metadata": {},
   "outputs": [],
   "source": [
    "niftis.hdf5.close()"
   ]
  },
  {
   "cell_type": "code",
   "execution_count": null,
   "metadata": {},
   "outputs": [],
   "source": [
    "niftis.image_data_shape = (0,1,256,256,32)"
   ]
  },
  {
   "cell_type": "code",
   "execution_count": null,
   "metadata": {},
   "outputs": [],
   "source": [
    "tables.Filters(5)"
   ]
  },
  {
   "cell_type": "code",
   "execution_count": null,
   "metadata": {},
   "outputs": [],
   "source": [
    "n_samples = len(niftis.ids)\n",
    "\n",
    "#image_storage1 = niftis.hdf5.create_earray(niftis.hdf5.root, 'imdata', tables.Float32Atom(), \n",
    "#                                          shape=(0,1,256,256,32), filters=filters, expectedrows=n_samples)\n",
    "image_storage2 = niftis.hdf5.create_vlarray(niftis.hdf5.root, 'imdata2', tables.Float32Atom(shape=()), filters=filters, expectedrows=n_samples)"
   ]
  },
  {
   "cell_type": "code",
   "execution_count": null,
   "metadata": {},
   "outputs": [],
   "source": [
    "from src.unet3d.normalize import reslice_image_set\n",
    "for (i, imagePath) in enumerate(niftis.data_files):\n",
    "    print(i)\n",
    "    images, imstats = reslice_image_set(\n",
    "                in_files=imagePath, image_shape=(256,256,None), label_indices=len(imagePath)-1, crop=True, stats=True)\n",
    "    subject_data = [image.get_fdata() for image in images]\n",
    "    break\n",
    "    image_storage2.append(np.asarray(subject_data[:niftis.n_channels])[np.newaxis])\n",
    "    print(imstats)\n",
    " "
   ]
  },
  {
   "cell_type": "code",
   "execution_count": null,
   "metadata": {},
   "outputs": [],
   "source": [
    "subject_data[0].shape"
   ]
  },
  {
   "cell_type": "code",
   "execution_count": null,
   "metadata": {},
   "outputs": [],
   "source": [
    "a=np.asarray([5,6])\n",
    "a.shape"
   ]
  },
  {
   "cell_type": "code",
   "execution_count": null,
   "metadata": {},
   "outputs": [],
   "source": [
    "a = np.asarray(list(range(1,21))).reshape(2,2,5)\n",
    "print(a.shape)\n",
    "b = np.asarray(list(range(1,17))).reshape(2,2,4)\n",
    "print(b.shape)"
   ]
  },
  {
   "cell_type": "code",
   "execution_count": null,
   "metadata": {},
   "outputs": [],
   "source": [
    "fileh.close()\n",
    "filters = tables.Filters(complevel=5, complib='blosc')\n",
    "n_samples=9\n",
    "exp_slices = 5 # expected slices\n",
    "fileh = tables.open_file('earrays.h5', mode='w')\n",
    "vlarray = fileh.create_vlarray(fileh.root, 'vlarray1', tables.Int32Atom(shape=(1,2,2)),\"ragged array of ints\",\n",
    "                              filters=filters)  #(1,2,2)\n",
    "\n",
    "\n",
    "vlind = fileh.create_earray(fileh.root, 'vlind', tables.Int32Atom(), shape=(0,2), filters=filters, expectedrows=n_samples)\n",
    "\n",
    "\n",
    "earray2 = fileh.create_earray(fileh.root, 'imdata_slices', tables.Int32Atom(), \n",
    "                                          shape=(0,1,2,2), filters=filters, expectedrows=n_samples*exp_slices)\n",
    "\n",
    "\n",
    "#earray = fileh.create_earray(fileh.root, 'imdata', tables.Int32Atom(), \n",
    "#                                          shape=(0,1,2,2,5), filters=filters, expectedrows=n_samples)\n",
    "start= 0\n",
    "stop = 0\n",
    "\n",
    "vlind.append(np.array([0,5])[np.newaxis])\n",
    "vlind.append(np.array([5,10])[np.newaxis])\n",
    "\n",
    "# Append some (variable length) rows:\n",
    "vlarray.append(a.reshape(5,1,2,2))\n",
    "vlarray.append(b.reshape(5,1,2,2))\n",
    "\n",
    "earray.append(a[np.newaxis][np.newaxis])\n",
    "earray.append(b[np.newaxis][np.newaxis])\n",
    "\n",
    "earray2.append(a.reshape(5,1,2,2))\n",
    "earray2.append(b.reshape(5,1,2,2))\n",
    "\n",
    "# Now, read it through an iterator:\n",
    "# print('-->', vlarray.title)\n",
    "# for x in vlarray:\n",
    "#     print('%s[%d]--> %s' % (vlarray.name, vlarray.nrow, x))"
   ]
  },
  {
   "cell_type": "code",
   "execution_count": null,
   "metadata": {},
   "outputs": [],
   "source": [
    "\"/vlarray1\" in fileh"
   ]
  },
  {
   "cell_type": "code",
   "execution_count": null,
   "metadata": {},
   "outputs": [],
   "source": [
    "earray[0]"
   ]
  },
  {
   "cell_type": "code",
   "execution_count": null,
   "metadata": {},
   "outputs": [],
   "source": [
    "earray.shape"
   ]
  },
  {
   "cell_type": "code",
   "execution_count": null,
   "metadata": {},
   "outputs": [],
   "source": [
    "earray2.shape"
   ]
  },
  {
   "cell_type": "code",
   "execution_count": null,
   "metadata": {},
   "outputs": [],
   "source": [
    "y = np.stack(earray2[vlind[0,0]:vlind[0,1]],axis=0)\n",
    "y = y.reshape(1,2,2,5)\n",
    "y.shape"
   ]
  },
  {
   "cell_type": "code",
   "execution_count": null,
   "metadata": {},
   "outputs": [],
   "source": [
    "earray[0].shape"
   ]
  },
  {
   "cell_type": "code",
   "execution_count": null,
   "metadata": {},
   "outputs": [],
   "source": [
    "earray[0].all() == y.all() == z.all()"
   ]
  },
  {
   "cell_type": "code",
   "execution_count": null,
   "metadata": {},
   "outputs": [],
   "source": [
    "z = vlarray[0].reshape(1,2,2,5)"
   ]
  },
  {
   "cell_type": "code",
   "execution_count": null,
   "metadata": {},
   "outputs": [],
   "source": [
    "image_data_shape = (0,1,2,2,None)\n",
    "truth_data_shape = (0,1,2,2,None)\n",
    "input_shape = (2,2,None)\n",
    "if None in image_data_shape:\n",
    "    Noneindex = input_shape.index(None)\n",
    "    imarray_shape = tuple([i for i in image_data_shape if i])\n",
    "    imtruth_shape = tuple([i for i in truth_data_shape if i])\n",
    "    print(Noneindex)\n",
    "    print(imarray_shape)\n",
    "    print(imtruth_shape)"
   ]
  },
  {
   "cell_type": "code",
   "execution_count": null,
   "metadata": {},
   "outputs": [],
   "source": [
    "v = 10\n",
    "a = 7\n",
    "if v:\n",
    "    a = 1\n",
    "else:\n",
    "    a = 2\n",
    "    \n",
    "print(a)    \n",
    "    "
   ]
  },
  {
   "cell_type": "code",
   "execution_count": null,
   "metadata": {},
   "outputs": [],
   "source": [
    "config['output_file'] = '/data/something/something/name.hdf5'"
   ]
  },
  {
   "cell_type": "code",
   "execution_count": null,
   "metadata": {},
   "outputs": [],
   "source": [
    "out_d = config['output_file'].split('/')[0]\n",
    "out_f = os.path.splitext(os.path.basename(config['output_file']))[0]\n",
    "out_f"
   ]
  },
  {
   "cell_type": "code",
   "execution_count": null,
   "metadata": {},
   "outputs": [],
   "source": [
    "os.path.basename(config['output_file'])"
   ]
  },
  {
   "cell_type": "code",
   "execution_count": null,
   "metadata": {},
   "outputs": [],
   "source": []
  }
 ],
 "metadata": {
  "file_extension": ".py",
  "kernelspec": {
   "display_name": "Python 3",
   "language": "python",
   "name": "python3"
  },
  "language_info": {
   "codemirror_mode": {
    "name": "ipython",
    "version": 3
   },
   "file_extension": ".py",
   "mimetype": "text/x-python",
   "name": "python",
   "nbconvert_exporter": "python",
   "pygments_lexer": "ipython3",
   "version": "3.7.3"
  },
  "mimetype": "text/x-python",
  "name": "python",
  "npconvert_exporter": "python",
  "pygments_lexer": "ipython3",
  "version": 3
 },
 "nbformat": 4,
 "nbformat_minor": 2
}
