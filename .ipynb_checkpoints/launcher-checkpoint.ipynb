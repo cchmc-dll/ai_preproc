{
 "cells": [
  {
   "cell_type": "code",
   "execution_count": 1,
   "metadata": {},
   "outputs": [],
   "source": [
    "from IPython import get_ipython"
   ]
  },
  {
   "cell_type": "code",
   "execution_count": 2,
   "metadata": {},
   "outputs": [
    {
     "name": "stderr",
     "output_type": "stream",
     "text": [
      "No traceback available to show.\n"
     ]
    }
   ],
   "source": [
    "get_ipython().run_line_magic('tb', '')"
   ]
  },
  {
   "cell_type": "code",
   "execution_count": 5,
   "metadata": {},
   "outputs": [
    {
     "name": "stdout",
     "output_type": "stream",
     "text": [
      "C:\\Users\\somd7w\\Desktop\\DL_Projects\\tensorflow\\lib\\site-packages\\ipykernel_launcher.py\n",
      "['C:\\\\Users\\\\somd7w\\\\Desktop\\\\DL_Projects\\\\tensorflow\\\\lib\\\\site-packages\\\\ipykernel_launcher.py', '@ab.args']\n"
     ]
    }
   ],
   "source": [
    "import sys\n",
    "import argparse\n",
    "from pathlib import Path\n",
    "#Configuration file\n",
    "config_file = 'preproc.args'\n",
    "config_arg = '@'+config_file\n",
    "print(sys.argv[0])\n",
    "if config_arg not in sys.argv:\n",
    "    primary = sys.argv[0]\n",
    "    sys.argv = [primary,config_arg] \n",
    "print(sys.argv)"
   ]
  },
  {
   "cell_type": "code",
   "execution_count": null,
   "metadata": {},
   "outputs": [],
   "source": [
    "#from  src.run_preprocess import *\n",
    "from src.run_debug import *\n",
    "\n",
    "file = '@preproc.args'\n",
    "\n",
    "print(file)\n",
    "main(file)"
   ]
  }
 ],
 "metadata": {
  "file_extension": ".py",
  "kernelspec": {
   "display_name": "Python 3",
   "language": "python",
   "name": "python3"
  },
  "language_info": {
   "codemirror_mode": {
    "name": "ipython",
    "version": 3
   },
   "file_extension": ".py",
   "mimetype": "text/x-python",
   "name": "python",
   "nbconvert_exporter": "python",
   "pygments_lexer": "ipython3",
   "version": "3.7.3"
  },
  "mimetype": "text/x-python",
  "name": "python",
  "npconvert_exporter": "python",
  "pygments_lexer": "ipython3",
  "version": 3
 },
 "nbformat": 4,
 "nbformat_minor": 2
}
