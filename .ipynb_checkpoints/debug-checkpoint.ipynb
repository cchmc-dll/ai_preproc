{
 "cells": [
  {
   "cell_type": "code",
   "execution_count": 1,
   "metadata": {},
   "outputs": [],
   "source": [
    "from IPython import get_ipython"
   ]
  },
  {
   "cell_type": "code",
   "execution_count": 2,
   "metadata": {},
   "outputs": [
    {
     "name": "stderr",
     "output_type": "stream",
     "text": [
      "No traceback available to show.\n"
     ]
    }
   ],
   "source": [
    "get_ipython().run_line_magic('tb', '')"
   ]
  },
  {
   "cell_type": "code",
   "execution_count": 3,
   "metadata": {},
   "outputs": [
    {
     "name": "stdout",
     "output_type": "stream",
     "text": [
      "/opt/conda/lib/python3.7/site-packages/ipykernel_launcher.py\n",
      "['/opt/conda/lib/python3.7/site-packages/ipykernel_launcher.py', '@preproc.args']\n"
     ]
    }
   ],
   "source": [
    "import sys\n",
    "import argparse\n",
    "from pathlib import Path\n",
    "#Configuration file\n",
    "config_file = 'preproc.args'\n",
    "config_arg = '@'+config_file\n",
    "print(sys.argv[0])\n",
    "if config_arg not in sys.argv:\n",
    "    primary = sys.argv[0]\n",
    "    sys.argv = [primary,config_arg] \n",
    "print(sys.argv)"
   ]
  },
  {
   "cell_type": "code",
   "execution_count": 4,
   "metadata": {},
   "outputs": [
    {
     "name": "stderr",
     "output_type": "stream",
     "text": [
      "/opt/conda/lib/python3.7/site-packages/sklearn/externals/joblib/__init__.py:15: DeprecationWarning: sklearn.externals.joblib is deprecated in 0.21 and will be removed in 0.23. Please import this functionality directly from joblib, which can be installed with: pip install joblib. If this warning is raised when loading pickled models, you may need to re-serialize those models with scikit-learn 0.21+.\n",
      "  warnings.warn(msg, category=DeprecationWarning)\n"
     ]
    },
    {
     "name": "stdout",
     "output_type": "stream",
     "text": [
      "@preproc.args\n",
      "argv type:  <class 'list'>\n",
      "argv:  ['/opt/conda/lib/python3.7/site-packages/ipykernel_launcher.py', '@preproc.args', '@preproc.args']\n",
      "Namespace(CPU=4, all_modalities='MR1', image_format='NIFTI', image_masks='MASK', image_shape='256,256,None', input_images='data/', input_type='Image', normalize=1, output_dir='output/', output_file='data_test.h5', output_images=0, output_imstats=1, overwrite=0, patch_shape=None, problem_type='Segmentation', training_modalities=None)\n",
      "{'CPU': 4,\n",
      " 'all_modalities': ['MR1'],\n",
      " 'image_format': 'NIFTI',\n",
      " 'image_masks': ['MASK'],\n",
      " 'image_shape': (256, 256, None),\n",
      " 'input_images': '/home/jovyan/data',\n",
      " 'input_type': 'Image',\n",
      " 'n_channels': 1,\n",
      " 'normalize': 1,\n",
      " 'output_dir': 'output/',\n",
      " 'output_file': 'output/data_test.h5',\n",
      " 'output_images': 0,\n",
      " 'output_imstats': 1,\n",
      " 'overwrite': 0,\n",
      " 'patch_shape': None,\n",
      " 'problem_type': 'Segmentation',\n",
      " 'training_modalities': ['MR1']}\n"
     ]
    }
   ],
   "source": [
    "#from  src.run_preprocess import *\n",
    "from src.run_debug import *\n",
    "\n",
    "file = '@preproc.args'\n",
    "\n",
    "print(file)\n",
    "config = main(file)"
   ]
  },
  {
   "cell_type": "code",
   "execution_count": null,
   "metadata": {},
   "outputs": [],
   "source": [
    " # # Open the hdf5 file\n",
    "    # if config['overwrite'] or not os.path.exists(config[\"output_file\"]):\n",
    "    #     hdf5_file = tables.open_file(config[\"output_file\"], mode='w')\n",
    "    #     overwrite = 1\n",
    "    # else:\n",
    "    #     hdf5_file = tables.open_file(config[\"output_file\"], mode='r')\n",
    "\n",
    "    # config[\"hdf5_file\"] = hdf5_file\n",
    "\n",
    "    # niftis = nifti_loader(\n",
    "    #         config[\"hdf5_file\"],\n",
    "    #         config[\"input_images\"],\n",
    "    #         config[\"problem_type\"],\n",
    "    #         config[\"image_shape\"],\n",
    "    #         config[\"training_modalities\"],\n",
    "    #         config[\"image_masks\"]\n",
    "    #     )\n",
    "\n",
    "    # print(' Image data shape: ', niftis.image_data_shape)\n",
    "    # print(' Image modalities: ', niftis.image_modalities)\n",
    "    # print('  No. of Subjects: ', len(niftis.ids))\n",
    "    # niftis.load_toHDF5()\n"
   ]
  }
 ],
 "metadata": {
  "file_extension": ".py",
  "kernelspec": {
   "display_name": "Python 3",
   "language": "python",
   "name": "python3"
  },
  "language_info": {
   "codemirror_mode": {
    "name": "ipython",
    "version": 3
   },
   "file_extension": ".py",
   "mimetype": "text/x-python",
   "name": "python",
   "nbconvert_exporter": "python",
   "pygments_lexer": "ipython3",
   "version": "3.7.3"
  },
  "mimetype": "text/x-python",
  "name": "python",
  "npconvert_exporter": "python",
  "pygments_lexer": "ipython3",
  "version": 3
 },
 "nbformat": 4,
 "nbformat_minor": 2
}
